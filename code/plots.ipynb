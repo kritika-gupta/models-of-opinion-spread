{
 "cells": [
  {
   "cell_type": "markdown",
   "metadata": {},
   "source": [
    "## Create plots"
   ]
  },
  {
   "cell_type": "code",
   "execution_count": null,
   "metadata": {},
   "outputs": [],
   "source": [
    "import numpy as np\n",
    "import matplotlib.pyplot as plt\n",
    "import os\n",
    "import json\n",
    "import cycler\n",
    "plt.rcParams.update({'font.size': 14})\n",
    "\n",
    "# import magnetization and steady state plot create functions\n",
    "from plot_functions import *"
   ]
  },
  {
   "cell_type": "markdown",
   "metadata": {},
   "source": [
    "### Folder with output files "
   ]
  },
  {
   "cell_type": "code",
   "execution_count": null,
   "metadata": {
    "scrolled": true
   },
   "outputs": [],
   "source": [
    "folder_path = './one_dim_outputs/'\n",
    "sorted(os.listdir(folder_path))\n"
   ]
  },
  {
   "cell_type": "markdown",
   "metadata": {},
   "source": [
    "### Load output csvs for specified method, media values and campaign splits"
   ]
  },
  {
   "cell_type": "code",
   "execution_count": null,
   "metadata": {},
   "outputs": [],
   "source": [
    "method = 'default'\n",
    "C = 3 # number of ratio splits\n",
    "\n",
    "# media_list = [0.0, 0.001, 0.003, 0.005, 0.01, 0.03, 0.05, 0.1]\n",
    "media_list = [0.0, 0.001, 0.005]\n",
    "m_to_df, camps = load_data(folder_path, method, C, media_list)"
   ]
  },
  {
   "cell_type": "markdown",
   "metadata": {},
   "source": [
    "### Plot magnetization \n",
    "#### Use group = True and mention grouby_idx (the campaign split id) to plot curves for different media values on plot to compare.\n",
    "#### Pass \"save=True\" to save figures"
   ]
  },
  {
   "cell_type": "code",
   "execution_count": null,
   "metadata": {
    "scrolled": false
   },
   "outputs": [],
   "source": [
    "plot_magnetization(m_to_df, camps, method, path = folder_path, group = False, groupby_idx = 0)"
   ]
  },
  {
   "cell_type": "markdown",
   "metadata": {},
   "source": [
    "### Plot steady states\n",
    "#### Pass \"save=True\" to save figures"
   ]
  },
  {
   "cell_type": "code",
   "execution_count": null,
   "metadata": {
    "scrolled": false
   },
   "outputs": [],
   "source": [
    "plot_ss(m_to_df, camps, method, folder_path)"
   ]
  },
  {
   "cell_type": "markdown",
   "metadata": {},
   "source": [
    "## Plot Decision times"
   ]
  },
  {
   "cell_type": "code",
   "execution_count": null,
   "metadata": {
    "scrolled": false
   },
   "outputs": [],
   "source": [
    "# specify parameters    \n",
    "conc = 0.5\n",
    "L = 24*24\n",
    "split = 0\n",
    "\n",
    "\n",
    "no_weights = dict.fromkeys(media_list)\n",
    "for m in sorted(media_list):\n",
    "    no_weights[m] = m_to_df[m]\n",
    "\n",
    "plt.figure(figsize = (8, 6))\n",
    "for m in media_list:\n",
    "# for i in range(3):\n",
    "    df = no_weights[m][split]\n",
    "    val_list = []\n",
    "    num_sims = (max(df.sim)+1)\n",
    "    df = df.query('conc==%f'%conc)\n",
    "    for row in df.itertuples():\n",
    "        [vals, counts] = json.loads(row.decision)\n",
    "        all_vals = [[vals[i]]*int(counts[i]) for i in range(len(vals))]\n",
    "        all_vals_open = [int(value/L) for sublist in all_vals for value in sublist]\n",
    "        val_list.append(all_vals_open)\n",
    "    val_list = np.array([value for sublist in val_list for value in sublist if value!=0])\n",
    "    v, counts = np.unique(val_list, return_counts=True)\n",
    "    \n",
    "    if(m==0.0):\n",
    "        plt.loglog((v), counts/sum(counts),'+', label = \"p = %0.3f\"%m)\n",
    "        fit = powerlaw.Fit(val_list[np.where(val_list>0)], xmin=min(val_list))\n",
    "        fit.power_law.plot_pdf(color= 'orange',label='powerfit'+r'$ \\approx \\mu^{-%0.3f}$'%np.round(fit.power_law.alpha, 3))\n",
    "        print('alpha= ',fit.power_law.alpha,'  sigma= ',fit.power_law.sigma)\n",
    "    else:\n",
    "#         plt.loglog((v), counts/sum(counts),'+--', label = \"m=\"+str(camps[i].split('_')[0]))#label = \"p = %0.3f\"%m)\n",
    "        plt.loglog((v), counts/sum(counts),'+--', label = \"p = %0.3f\"%m)\n",
    "    \n",
    "plt.legend(loc = 0, fontsize = 14)\n",
    "plt.title(\"Decision time distribution\", fontsize = 14)\n",
    "plt.xlabel('log of decision times '+r'($\\mu$)', fontsize = 14)\n",
    "plt.ylabel('log of probability', fontsize = 14)\n",
    "plt.grid(True)\n",
    "# plt.savefig(folder_path+\"_\"+str(m)+\"_\"+str(2)+\"_dectimes.png\", dpi = 100)\n"
   ]
  },
  {
   "cell_type": "markdown",
   "metadata": {},
   "source": [
    "## Plot Relaxation Times"
   ]
  },
  {
   "cell_type": "code",
   "execution_count": null,
   "metadata": {
    "scrolled": false
   },
   "outputs": [],
   "source": [
    "for m in media_list:    \n",
    "    num_sims = (max(m_to_df[m][0].sim)+1)\n",
    "    plt.figure(figsize=(8,6))\n",
    "    concs = np.unique(m_to_df[m][0].conc)\n",
    "    conc_rel = np.zeros((len(concs), len(m_to_df[m].keys())))\n",
    "    for split in sorted(m_to_df[m]):\n",
    "\n",
    "        print(camps[split])\n",
    "        df = m_to_df[m][split]\n",
    "        df = df[['conc','relaxation']].groupby('conc').sum()/(num_sims*24*24)\n",
    "        plt.plot(df, label = camps[split].split('_')[0])\n",
    "        conc_rel[:, split] = (np.array(df.relaxation))\n",
    "\n",
    "    plt.xlabel(\"intital upward spin concentration \"+r\"$C_u$\", fontsize = 14)\n",
    "    plt.ylabel(\"relaxation time\", fontsize = 14)\n",
    "    plt.title(r\"Relaxation times for $p = %.3f$\"%m, fontsize = 14)\n",
    "    plt.legend(loc=0)\n",
    "    plt.grid(True)\n",
    "\n",
    "#     plt.savefig(folder_path+\"RelaxationTime_comp_\"+method+\".png\")\n",
    "    plt.show()"
   ]
  },
  {
   "cell_type": "code",
   "execution_count": null,
   "metadata": {},
   "outputs": [],
   "source": []
  }
 ],
 "metadata": {
  "kernelspec": {
   "display_name": "Python 3",
   "language": "python",
   "name": "python3"
  },
  "language_info": {
   "codemirror_mode": {
    "name": "ipython",
    "version": 3
   },
   "file_extension": ".py",
   "mimetype": "text/x-python",
   "name": "python",
   "nbconvert_exporter": "python",
   "pygments_lexer": "ipython3",
   "version": "3.5.2"
  }
 },
 "nbformat": 4,
 "nbformat_minor": 2
}
